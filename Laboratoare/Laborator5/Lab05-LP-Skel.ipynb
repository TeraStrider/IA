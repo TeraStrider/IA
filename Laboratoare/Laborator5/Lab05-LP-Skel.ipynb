{
 "cells": [
  {
   "cell_type": "markdown",
   "metadata": {},
   "source": [
    "# Logica cu predicate (1). Reprezentare & Unificare\n",
    " - Andrei Olaru\n",
    " - Tudor Berariu\n"
   ]
  },
  {
   "cell_type": "markdown",
   "metadata": {},
   "source": [
    "## Scopul laboratorului\n",
    "\n",
    "Scopul acestui laborator este familiarizarea cu reprezentarea logică a cunoștințelor și cu mecanismele de lucru cu cunoștințe reprezentate prin logica cu predicate de ordinul I (LPOI / FOPL).\n",
    "\n",
    "În cadrul laboratorului, va fi necesar să vă alegeți o reprezentare internă pentru elementele din FOPL, și apoi să implementați procesul de unificare între două formule din logica cu predicate. \n",
    "\n",
    "\n",
    "#### Resurse\n",
    "\n",
    "* Cursul 5 de IA, slides 25-27\n",
    "* https://en.wikipedia.org/wiki/Unification_(computer_science)#Examples_of_syntactic_unification_of_first-order_terms\n",
    "* algoritmul lui Robinson (vezi pdf)\n"
   ]
  },
  {
   "cell_type": "markdown",
   "metadata": {
    "collapsed": true
   },
   "source": [
    "## Reprezentare\n",
    "\n",
    "În LPOI trebuie să putem reprezenta următoarele elemente:\n",
    "* _termen_ -- poate fi luat ca argument de către un predicat. Un termen poate fi:\n",
    "  * o constantă -- are o valoare\n",
    "  * o variabilă -- are un nume și poate fi legată la o valoare\n",
    "  * un apel de funcție -- are numele funcției și argumentele (e.g. add[1, 2, 3]). Se evaluează la o valoare. Argumentele funcției sunt tot termeni.\n",
    "    * Notă: În text vom scrie apelurile de funcții cu paranteze drepte, pentru a le deosebi de atomi.\n",
    "* _formulă (propoziție) logică_ -- se poate evalua la o valoare de adevăr, într-o interpretare (o anumită legare a numelor la o semantică). O formulă poate fi:\n",
    "  * un atom -- aplicarea unui predicat (cu un nume) peste o serie de termeni (argumentele sale)\n",
    "  * negarea unei formule\n",
    "  * un conector logic între două propoziții -- conjuncție sau disjuncție\n",
    "  \n",
    "\n",
    "### Cerința 1\n",
    "\n",
    "Creați o reprezentare internă pentru formule logice. Pentru această reprezentare, vom avea:\n",
    "* o serie de funcții care o construiesc -- `make_*` și `replace_args`\n",
    "* o serie de funcții care o verifică -- `is_*`\n",
    "* o serie de funcții care accesează elementele din reprezentare -- `get_*`\n",
    "\n",
    "\n",
    "**Important:** Pentru a lucra mai ușor cu formulele, vom considera că pentru apelurile de funcții și pentru toate formulele (atât atomi cât și propoziții compuse), reprezentarea are un _head_ (după caz, numele funcției, numele predicatului, sau conectorul logic) și o listă de argumente (după caz, lista de argumente a funcției, lista de argumente a predicatului, o listă cu propoziția negată, sau lista de propoziții unite de conectorul logic (2 sau mai multe)).\n",
    "\n",
    "**Notă:** la început, implementați funcțiile de verificare ca și cum argumentele date are fi reprezentate corect (deci doar pentru a deosebi între diversele tipuri de reprezentare). Ulterior, verificați și ca argumentele date să fie într-adevăr corect reprezentate."
   ]
  },
  {
   "cell_type": "code",
   "execution_count": 1,
   "metadata": {},
   "outputs": [],
   "source": [
    "from operator import add\n",
    "from LPTester import test_batch"
   ]
  },
  {
   "cell_type": "code",
   "execution_count": 2,
   "metadata": {
    "scrolled": false
   },
   "outputs": [
    {
     "output_type": "stream",
     "name": "stdout",
     "text": [
      ">>> Test batch [0]\nTest 0: OK\nTest 1: OK\nTest 2: OK\nTest 3: OK\nTest 4: OK\nTest 5: OK\nTest 6: OK\nTest 7: OK\nTest 8: OK\nTest 9: OK\nTest 10: OK\nTest 11: OK\nTest 12: OK\nTest 13: OK\nTest 14: OK\nTest 15: OK\nTest 16: OK\nTest 17: OK\nTest 18: OK\nTest 19: OK\nTest 20: OK\nTest 21: OK\nTest 22: OK\nTest 23: OK\nTest 24: OK\nTest 25: OK\nTest 26: OK\nTest 27: OK\nTest 28: OK\nTest 29: OK\nTest 30: OK\nTest 31: OK\nTest 32: OK\n>>>  33 / 33 tests successful.\n"
     ]
    }
   ],
   "source": [
    "### Reprezentare - construcție\n",
    "CONST = \"const\"\n",
    "ATOM = \"atom\"\n",
    "VAR = \"var\"\n",
    "CALL = \"call\"\n",
    "AND = \"&\"\n",
    "OR = \"|\"\n",
    "NEG = \"~\"\n",
    "OPS = [AND, OR, NEG]\n",
    "\n",
    "TYPE = FUNC = 0\n",
    "ARGS = 1\n",
    "\n",
    "# întoarce un termen constant, cu valoarea specificată.\n",
    "def make_const(value):\n",
    "    # TODO\n",
    "    return (CONST, value)\n",
    "\n",
    "# întoarce un termen care este o variabilă, cu numele specificat.\n",
    "def make_var(name):\n",
    "    # TODO\n",
    "    return (VAR, name)\n",
    "\n",
    "# întoarce un termen care este un apel al funcției specificate, pe restul argumentelor date.\n",
    "# E.g. pentru a construi termenul add[1, 2, 3] vom apela\n",
    "#  make_function_call(add, make_const(1), make_const(2), make_const(3))\n",
    "# !! ATENȚIE: python dă args ca tuplu cu restul argumentelor, nu ca listă. Se poate converti la listă cu list(args)\n",
    "def make_function_call(function, *args):\n",
    "    # TODO\n",
    "    return (CALL, (function, list(args)))\n",
    "\n",
    "# întoarce o formulă formată dintr-un atom care este aplicarea predicatului dat pe restul argumentelor date.\n",
    "# !! ATENȚIE: python dă args ca tuplu cu restul argumentelor, nu ca listă. Se poate converti la listă cu list(args)\n",
    "def make_atom(predicate, *args):\n",
    "    # TODO\n",
    "    return (ATOM, (predicate, list(args)))\n",
    "\n",
    "# întoarce o formulă care este negarea propoziției date.\n",
    "# get_args(make_neg(s1)) va întoarce [s1]\n",
    "def make_neg(sentence):\n",
    "    # TODO\n",
    "    return (NEG, [sentence])\n",
    "\n",
    "# întoarce o formulă care este conjuncția propozițiilor date (2 sau mai multe).\n",
    "# e.g. apelul make_and(s1, s2, s3, s4) va întoarce o structură care este conjuncția s1 ^ s2 ^ s3 ^ s4\n",
    "#  și get_args pe această structură va întoarce [s1, s2, s3, s4]\n",
    "def make_and(sentence1, sentence2, *others):\n",
    "    # TODO\n",
    "    return (AND, [sentence1, sentence2] + list(others))\n",
    "\n",
    "# întoarce o formulă care este disjuncția propozițiilor date.\n",
    "# e.g. apelul make_or(s1, s2, s3, s4) va întoarce o structură care este disjuncția s1 V s2 V s3 V s4\n",
    "#  și get_args pe această structură va întoarce [s1, s2, s3, s4]\n",
    "def make_or(sentence1, sentence2, *others):\n",
    "    # TODO\n",
    "    return (OR, [sentence1, sentence2] + list(others))\n",
    "\n",
    "# întoarce o copie a formulei sau apelul de funcție date, în care argumentele au fost înlocuite\n",
    "#  cu cele din lista new_args.\n",
    "# e.g. pentru formula p(x, y), înlocuirea argumentelor cu lista [1, 2] va rezulta în formula p(1, 2).\n",
    "# Noua listă de argumente trebuie să aibă aceeași lungime cu numărul de argumente inițial din formulă.\n",
    "def replace_args(formula, new_args):\n",
    "    # TODO\n",
    "    if is_atom(formula) or is_function_call(formula):\n",
    "        return (formula[TYPE], (formula[ARGS][TYPE], new_args))\n",
    "    return (formula[TYPE], new_args)\n",
    "    \n",
    "    \n",
    "### Reprezentare - verificare\n",
    "\n",
    "# întoarce adevărat dacă f este un termen.\n",
    "def is_term(f):\n",
    "    return is_constant(f) or is_variable(f) or is_function_call(f)\n",
    "\n",
    "# întoarce adevărat dacă f este un termen constant.\n",
    "def is_constant(f):\n",
    "    # TODO\n",
    "    return f[TYPE] == CONST\n",
    "\n",
    "# întoarce adevărat dacă f este un termen ce este o variabilă.\n",
    "def is_variable(f):\n",
    "    # TODO\n",
    "    return f[TYPE] == VAR\n",
    "\n",
    "# întoarce adevărat dacă f este un apel de funcție.\n",
    "def is_function_call(f):\n",
    "    # TODO\n",
    "    return f[TYPE] == CALL\n",
    "\n",
    "# întoarce adevărat dacă f este un atom (aplicare a unui predicat).\n",
    "def is_atom(f):\n",
    "    # TODO\n",
    "    return f[TYPE] == ATOM\n",
    "\n",
    "# întoarce adevărat dacă f este o propoziție validă.\n",
    "def is_sentence(f):\n",
    "    # TODO\n",
    "    return is_atom(f) or f[TYPE] in OPS\n",
    "\n",
    "# întoarce adevărat dacă formula f este ceva ce are argumente.\n",
    "def has_args(f):\n",
    "    return is_function_call(f) or is_sentence(f)\n",
    "\n",
    "\n",
    "### Reprezentare - verificare\n",
    "\n",
    "# pentru constante (de verificat), se întoarce valoarea constantei; altfel, None.\n",
    "def get_value(f):\n",
    "    # TODO\n",
    "    return f[ARGS] if is_constant(f) else None\n",
    "\n",
    "# pentru variabile (de verificat), se întoarce numele variabilei; altfel, None.\n",
    "def get_name(f):\n",
    "    # TODO\n",
    "    return f[ARGS] if is_variable(f) else None\n",
    "\n",
    "# pentru apeluri de funcții, se întoarce funcția;\n",
    "# pentru atomi, se întoarce numele predicatului; \n",
    "# pentru propoziții compuse, se întoarce un șir de caractere care reprezintă conectorul logic (e.g. ~, A sau V);\n",
    "# altfel, None\n",
    "def get_head(f):\n",
    "    # TODO\n",
    "    if is_atom(f) or is_function_call(f):\n",
    "        return f[ARGS][FUNC]\n",
    "    if is_sentence(f):\n",
    "        return f[TYPE]\n",
    "\n",
    "# pentru propoziții sau apeluri de funcții, se întoarce lista de argumente; altfel, None.\n",
    "# Vezi și \"Important:\", mai sus.\n",
    "def get_args(f):\n",
    "    # TODO\n",
    "    if is_atom(f) or is_function_call(f):\n",
    "        return f[ARGS][ARGS]\n",
    "    if is_sentence(f):\n",
    "        return f[ARGS]\n",
    "\n",
    "\n",
    "test_batch(0, globals())"
   ]
  },
  {
   "cell_type": "code",
   "execution_count": 3,
   "metadata": {},
   "outputs": [
    {
     "output_type": "stream",
     "name": "stdout",
     "text": [
      "(& (| ~P(?x) Q(?x)) T(?y, <built-in function add>[1,2]))\n"
     ]
    }
   ],
   "source": [
    "# Afișează formula f. Dacă argumentul return_result este True, rezultatul nu este afișat la consolă, ci întors.\n",
    "def print_formula(f, return_result = False):\n",
    "    ret = \"\"\n",
    "    if is_term(f):\n",
    "        if is_constant(f):\n",
    "            ret += str(get_value(f))\n",
    "        elif is_variable(f):\n",
    "            ret += \"?\" + get_name(f)\n",
    "        elif is_function_call(f):\n",
    "            ret += str(get_head(f)) + \"[\" + \"\".join([print_formula(arg, True) + \",\" for arg in get_args(f)])[:-1] + \"]\"\n",
    "        else:\n",
    "            ret += \"???\"\n",
    "    elif is_atom(f):\n",
    "        ret += str(get_head(f)) + \"(\" + \"\".join([print_formula(arg, True) + \", \" for arg in get_args(f)])[:-2] + \")\"\n",
    "    elif is_sentence(f):\n",
    "        # negation, conjunction or disjunction\n",
    "        args = get_args(f)\n",
    "        if len(args) == 1:\n",
    "            ret += str(get_head(f)) + print_formula(args[0], True)\n",
    "        else:\n",
    "            ret += \"(\" + str(get_head(f)) + \"\".join([\" \" + print_formula(arg, True) for arg in get_args(f)]) + \")\"\n",
    "    else:\n",
    "        ret += \"???\"\n",
    "    if return_result:\n",
    "        return ret\n",
    "    print(ret)\n",
    "    return\n",
    "    \n",
    "# Verificare construcție și afișare\n",
    "# Ar trebui ca ieșirea să fie similară cu: (A (V ~P(?x) Q(?x)) T(?y, <built-in function add>[1,2]))\n",
    "formula1 = make_and(\n",
    "    make_or(make_neg(make_atom(\"P\", make_var(\"x\"))), make_atom(\"Q\", make_var(\"x\"))),\n",
    "    make_atom(\"T\", make_var(\"y\"), make_function_call(add, make_const(1), make_const(2))))\n",
    "print_formula(formula1)"
   ]
  },
  {
   "cell_type": "markdown",
   "metadata": {},
   "source": [
    "## Unificare\n",
    "\n",
    "Unificarea a două formule logice ce conțin variabile înseamnă găsirea unei substituții astfel încât aplicarea acesteia pe cele două formule să rezulte în două formule identice.\n",
    "\n",
    "O substituție conține asocieri de variabile la termeni. La aplicarea unei substituții, variabilele care apar în substituție sunt înlocuite, în formulă, cu termenii asociați, până când nu se mai poate face nicio înlocuire.\n",
    "\n",
    "Reprezentăm o substituție ca un dicționar `{nume variabilă: reprezentare termen}`."
   ]
  },
  {
   "cell_type": "code",
   "execution_count": 4,
   "metadata": {},
   "outputs": [
    {
     "output_type": "stream",
     "name": "stdout",
     "text": [
      ">>> Test batch [1]\nTest 0: OK\nTest 1: OK\nTest 2: OK\nTest 3: OK\nTest 4: OK\n>>>  5 / 5 tests successful.\n"
     ]
    }
   ],
   "source": [
    "# Aplică în formula f toate elementele din substituția dată și întoarce formula rezultată\n",
    "def substitute(f, substitution):\n",
    "    if substitution is None:\n",
    "        return None\n",
    "    if is_variable(f) and (get_name(f) in substitution):\n",
    "        return substitute(substitution[get_name(f)], substitution)\n",
    "    if has_args(f):\n",
    "        return replace_args(f, [substitute(arg, substitution) for arg in get_args(f)])\n",
    "    return f\n",
    "\n",
    "def test_formula(x, copyy = False):\n",
    "    fun = make_function_call(add, make_const(1), make_const(2))\n",
    "    return make_and(make_or(make_neg(make_atom(\"P\", make_const(x))), make_atom(\"Q\", make_const(x))), \\\n",
    "                    make_atom(\"T\", fun if copyy else make_var(\"y\"), fun))\n",
    "\n",
    "# Test (trebuie să se vadă efectele substituțiilor în formulă)\n",
    "test_batch(1, globals())"
   ]
  },
  {
   "cell_type": "markdown",
   "metadata": {},
   "source": [
    "### Cerința 2\n",
    "\n",
    "Implementați funcțiile `occur_check` și `unify`, conform algoritmului lui Robinson (vezi pdf)."
   ]
  },
  {
   "cell_type": "code",
   "execution_count": 5,
   "metadata": {},
   "outputs": [
    {
     "output_type": "stream",
     "name": "stdout",
     "text": [
      ">>> Test batch [2]\nTest 0: OK\nTest 1: OK\nTest 2: OK\nTest 3: OK\nTest 4: OK\nTest 5: OK\nTest 6: OK\n>>>  7 / 7 tests successful.\n"
     ]
    }
   ],
   "source": [
    "# Verifică dacă variabila v apare în termenul t, având în vedere substituția subst.\n",
    "# Întoarce True dacă v apare în t (v NU poate fi înlocuită cu t), și False dacă v poate fi înlocuită cu t.\n",
    "def occur_check(v, t, subst):\n",
    "    if v == t:\n",
    "        return True\n",
    "    if get_name(t) in subst:\n",
    "        return occur_check(v, substitute(t, subst), subst)\n",
    "    if is_function_call(t):\n",
    "        return any(occur_check(v, arg, subst) for arg in get_args(t))\n",
    "    return False\n",
    "\n",
    "# Test!\n",
    "test_batch(2, globals())"
   ]
  },
  {
   "cell_type": "code",
   "execution_count": 6,
   "metadata": {},
   "outputs": [
    {
     "output_type": "stream",
     "name": "stdout",
     "text": [
      ">>> Test batch [3]\nTest 0: OK, got < False >\nTest 1: OK, got < {?x -> A} >\nTest 2: OK, got < {?x -> A} >\nTest 3: OK, got < {?x -> A} >\nTest 4: OK, got < {?x -> A} >\nTest 5: OK, got < {?x -> <built-in function add>[?Z,5]} >\nTest 6: OK, got < {?z -> C, ?y -> B, ?x -> A} >\nTest 7: OK, got < {?y -> 3, ?x -> 2} >\nTest 8: OK, got < False >\nTest 9: OK, got < False >\nTest 10: OK, got < {} >\nTest 11: OK, got < {?x -> ?y} >\nTest 12: OK, got < {?y -> ?x} >\nTest 13: OK, got < {?x -> A} >\nTest 14: OK, got < False >\nTest 15: OK, got < {?x -> A} >\nTest 16: OK, got < {?x -> A, ?z -> C, ?y -> B} >\nTest 17: OK, got < {?x -> A} >\nTest 18: OK, got < {?x -> ?y} >\nTest 19: OK, got < {?y -> ?x} >\nTest 20: OK, got < {?z -> 5, ?y -> 5, ?x -> 5} >\nTest 21: OK, got < {?z -> <built-in function add>[1,2], ?y -> 4, ?x -> 3} >\n>>>  22 / 22 tests successful.\n"
     ]
    }
   ],
   "source": [
    "# Unifică formulele f1 și f2, sub o substituție existentă subst.\n",
    "# Rezultatul unificării este o substituție (dicționar nume-variabilă -> termen),\n",
    "#  astfel încât dacă se aplică substituția celor două formule, rezultatul este identic.\n",
    "def unify(f1, f2, subst = None):\n",
    "    if not subst:\n",
    "        subst = {}\n",
    "    \n",
    "    st = [(f1, f2)]\n",
    "\n",
    "    while st:\n",
    "        f1, f2 = st.pop()\n",
    "\n",
    "        while get_name(f1) in subst:\n",
    "            f1 = substitute(f1, subst)\n",
    "        while get_name(f2) in subst: \n",
    "            f2 = substitute(f2, subst)\n",
    "\n",
    "        if f1 == f2:\n",
    "            continue\n",
    "\n",
    "        if is_variable(f1):\n",
    "            if occur_check(f1, f2, subst):\n",
    "                return False\n",
    "\n",
    "            subst[get_name(f1)] = f2\n",
    "        elif is_variable(f2):\n",
    "            if occur_check(f2, f1, subst):\n",
    "                return False\n",
    " \n",
    "            subst[get_name(f2)] = f1\n",
    "        elif has_args(f1) and has_args(f2):\n",
    "            if get_head(f1) == get_head(f2):\n",
    "                f1_args = get_args(f1)\n",
    "                f2_args = get_args(f2)\n",
    "\n",
    "                if len(f1_args) == len(f2_args):\n",
    "                    st += zip(f1_args, f2_args)\n",
    "            else:\n",
    "                return False\n",
    "        else:\n",
    "            return False\n",
    "\n",
    "    return subst\n",
    "\n",
    "# Test!\n",
    "test_batch(3, globals())"
   ]
  }
 ],
 "metadata": {
  "kernelspec": {
   "name": "Python 3.8.5 64-bit",
   "display_name": "Python 3.8.5 64-bit",
   "metadata": {
    "interpreter": {
     "hash": "31f2aee4e71d21fbe5cf8b01ff0e069b9275f58929596ceb00d14d90e3e16cd6"
    }
   }
  },
  "language_info": {
   "codemirror_mode": {
    "name": "ipython",
    "version": 3
   },
   "file_extension": ".py",
   "mimetype": "text/x-python",
   "name": "python",
   "nbconvert_exporter": "python",
   "pygments_lexer": "ipython3",
   "version": "3.8.5-final"
  }
 },
 "nbformat": 4,
 "nbformat_minor": 1
}