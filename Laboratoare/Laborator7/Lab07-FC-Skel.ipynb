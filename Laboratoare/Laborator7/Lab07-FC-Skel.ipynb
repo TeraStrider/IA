{
 "cells": [
  {
   "cell_type": "markdown",
   "metadata": {},
   "source": [
    "# Logica cu predicate (3). Înlănțuire înainte în Sisteme bazate pe reguli\n",
    "\n",
    "- Tudor Berariu\n",
    "- Andrei Olaru\n",
    "\n",
    "## 1. Introducere\n",
    "### Scopul laboratorului\n",
    "\n",
    "Scopul acestui laborator îl reprezintă înțelegerea și implementarea demonstrării teoremelor prin înlănțuire înainte.\n",
    "\n",
    "### Clauze definite. Reguli. Fapte\n",
    "\n",
    "În cadrul acestui laborator vom folosi un tip anume de formule, mai precis **clauze definite**. Acestea sunt clauze Horn cu exact un literal pozitiv.\n",
    "\n",
    "$$\\neg p_1 \\vee \\neg p_2 \\vee \\ldots \\vee \\neg p_N \\vee c$$\n",
    "\n",
    "În scrierea echivalentă:\n",
    "\n",
    "$$\\left( p_1 \\wedge p_2 \\wedge \\ldots \\wedge p_N \\right) \\rightarrow c$$\n",
    "\n",
    "devine evident ce reprezintă clauzele definite. Ele au o formă asemănătoare regulilor.\n",
    "\n",
    "Vom numi **regulă** o clauză definită cu cel puțin un literal negativ și vom numi **fapt** o clauză definită cu un singur literal (cel pozitiv).\n",
    "\n",
    "### Problema de rezolvat\n",
    "\n",
    "Problema pe care o vom rezolva astăzi se enunță astfel: *dată fiind o bază de cunoștințe* `kb` *formată din clauze definite (fapte și reguli), să se demonstreze o teoremă* `t`."
   ]
  },
  {
   "cell_type": "markdown",
   "metadata": {},
   "source": [
    "## 2. Funcții utile din laboratoarele anterioare\n",
    "\n",
    "### Cerința 0\n",
    "\n",
    "Salvați rezolvarea laboratorului 5 (*Reprezentare și Unificare*) cu numele `Lab05.py`. Vom folosi și funcțiile deja implementate din Laboratorul 6. Din acesta, funcțiile importante pentru astăzi sunt:\n",
    " - `make_var`, `make_const`, `make_atom` - utile pentru a construi atomi. De exemplu, $$Vreme(maine, Frig)$$ se construiește astfel:\n",
    "     \n",
    "     `make_atom(\"Vreme\", make_var(\"maine\"), make_const(\"Frig\"))`\n",
    " \n",
    " - `unify` și `substitute` - utile pentru calcularea celui mai general unificator pentru două formule și pentru aplicarea unei substituții\n",
    " - `is_positive_literal` și `is_negative_literal`\n",
    " - `add_statement` - adaugă o clauză definită unei baze de cunoștințe. Avem două variante de utilizare în acest laborator:\n",
    "   * `add_statement(kb, Atom)` - adaugă în kb faptul Atom\n",
    "   * `add_statement(kb, C, P1, P2, Pn)` - adaugă în kb regula $\\left( p_1 \\wedge p_2 \\wedge p_N \\right) \\rightarrow c$ sub forma:\n",
    "   \n",
    "   `make_or(make_neg(P1), make_neg(P2), make_neg(Pn), C)`\n",
    "   \n",
    "### Cerința 1\n",
    "\n",
    "Faceți următoarea modificare funcției `unify`: antetul funcției\n",
    "\n",
    "    def unify(f1, f2):\n",
    "        ...\n",
    "        subst = {}\n",
    "\n",
    "trebuie transformat astfel încât să primească un al treilea parametru, o substituție de pornire\n",
    "\n",
    "    def unify(f1, f2, subst=None):\n",
    "        if not subst:\n",
    "            subst = {}\n",
    "\n",
    "**Nu uitați** ca după modificarea lui `unify` să descărcați din nou laboratorul 5 ca fișier Python și să dați Kernel restart în acest fișier."
   ]
  },
  {
   "cell_type": "code",
   "execution_count": 1,
   "metadata": {},
   "outputs": [
    {
     "output_type": "stream",
     "name": "stdout",
     "text": [
      ">>> Test batch [0]\nTest 0: OK\nTest 1: OK\nTest 2: OK\nTest 3: OK\nTest 4: OK\nTest 5: OK\nTest 6: OK\nTest 7: OK\nTest 8: OK\nTest 9: OK\nTest 10: OK\nTest 11: OK\nTest 12: OK\nTest 13: OK\nTest 14: OK\nTest 15: OK\nTest 16: OK\nTest 17: OK\nTest 18: OK\nTest 19: OK\nTest 20: OK\nTest 21: OK\nTest 22: OK\nTest 23: OK\nTest 24: OK\nTest 25: OK\nTest 26: OK\nTest 27: OK\nTest 28: OK\nTest 29: OK\nTest 30: OK\nTest 31: OK\nTest 32: OK\n>>>  33 / 33 tests successful.\n(& (| ~P(?x) Q(?x)) T(?y, <built-in function add>[1,2]))\n>>> Test batch [1]\nTest 0: OK\nTest 1: OK\nTest 2: OK\nTest 3: OK\nTest 4: OK\n>>>  5 / 5 tests successful.\n>>> Test batch [2]\nTest 0: OK\nTest 1: OK\nTest 2: OK\nTest 3: OK\nTest 4: OK\nTest 5: OK\nTest 6: OK\n>>>  7 / 7 tests successful.\n>>> Test batch [3]\nTest 0: OK, got < False >\nTest 1: OK, got < {?x -> A} >\nTest 2: OK, got < {?x -> A} >\nTest 3: OK, got < {?x -> A} >\nTest 4: OK, got < {?x -> A} >\nTest 5: OK, got < {?x -> <built-in function add>[?Z,5]} >\nTest 6: OK, got < {?z -> C, ?y -> B, ?x -> A} >\nTest 7: OK, got < {?y -> 3, ?x -> 2} >\nTest 8: OK, got < False >\nTest 9: OK, got < False >\nTest 10: OK, got < {} >\nTest 11: OK, got < {?x -> ?y} >\nTest 12: OK, got < {?y -> ?x} >\nTest 13: OK, got < {?x -> A} >\nTest 14: OK, got < False >\nTest 15: OK, got < {?x -> A} >\nTest 16: OK, got < {?x -> A, ?z -> C, ?y -> B} >\nTest 17: OK, got < {?x -> A} >\nTest 18: OK, got < {?x -> ?y} >\nTest 19: OK, got < {?y -> ?x} >\nTest 20: OK, got < {?z -> 5, ?y -> 5, ?x -> 5} >\nTest 21: OK, got < {?z -> <built-in function add>[1,2], ?y -> 4, ?x -> 3} >\n>>>  22 / 22 tests successful.\nOK: Added statement USGeneral(West)\nOK: Added statement USGeneral(General_Awesome)\nOK: Added statement Awesome(General_Awesome)\nOK: Added statement Enemy(Nono, America)\nOK: Added statement Missile(M1)\nOK: Added statement Owns(Nono, M1)\nOK: Added statement (| ~USGeneral(?x) American(?x))\nOK: Added statement (| ~Missile(?x) Weapon(?x))\nOK: Added statement (| ~Owns(?x, ?y) ~Missile(?y) Sells(West, ?y, ?x))\nOK: Added statement (| ~Weapon(?y) ~Sells(?x, ?y, ?z) ~Hostile(?z) ~American(?x) Criminal(?x))\nOK: Added statement (| ~Enemy(?x, America) Hostile(?x))\nOK: Added statement (| ~American(?x) ~Awesome(?x) Awesome(America))\nKB now:\n\t\t\tUSGeneral(West)\n\t\t\tUSGeneral(General_Awesome)\n\t\t\tAwesome(General_Awesome)\n\t\t\tEnemy(Nono, America)\n\t\t\tMissile(M1)\n\t\t\tOwns(Nono, M1)\n\t\t\t(| ~USGeneral(?v2) American(?v2))\n\t\t\t(| ~Missile(?v4) Weapon(?v4))\n\t\t\t(| ~Owns(?v9, ?v8) ~Missile(?v8) Sells(West, ?v8, ?v9))\n\t\t\t(| ~Weapon(?v12) ~Sells(?v16, ?v12, ?v14) ~Hostile(?v14) ~American(?v16) Criminal(?v16))\n\t\t\t(| ~Enemy(?v18, America) Hostile(?v18))\n\t\t\t(| ~American(?v20) ~Awesome(?v20) Awesome(America))\nOK: Added statement (| ~Horse(?x) ~Dog(?y) Faster(?x, ?y))\nOK: Added statement (| ~Rabbit(?z) Faster(<function the_greyhound at 0x7f410c179e50>[], ?z))\nOK: Added statement Horse(Harry)\nOK: Added statement Rabbit(Ralph)\nOK: Added statement Greyhound(<function the_greyhound at 0x7f410c179e50>[])\nOK: Added statement (| ~Greyhound(?y) Dog(?y))\nOK: Added statement (| ~Faster(?x, ?y) ~Faster(?y, ?z) Faster(?x, ?z))\nKB now:\n\t\t\t(| ~Horse(?v3) ~Dog(?v4) Faster(?v3, ?v4))\n\t\t\t(| ~Rabbit(?v6) Faster(<function the_greyhound at 0x7f410c179e50>[], ?v6))\n\t\t\tHorse(Harry)\n\t\t\tRabbit(Ralph)\n\t\t\tGreyhound(<function the_greyhound at 0x7f410c179e50>[])\n\t\t\t(| ~Greyhound(?v8) Dog(?v8))\n\t\t\t(| ~Faster(?v13, ?v11) ~Faster(?v11, ?v14) Faster(?v13, ?v14))\nOK: Added statement (| ~P(?x) Q(?x))\nOK: Added statement P(A)\nKB now:\n\t\t\t(| ~P(?v2) Q(?v2))\n\t\t\tP(A)\n>>> Test batch [4]\nTest 0: OK, got < (USGeneral(General_Awesome), ~USGeneral(?v2), {?v2 -> General_Awesome} >\nTest 1: OK, got < (Owns(Nono, M1), ~Owns(?v9, ?v8), {?v8 -> M1, ?v9 -> Nono} >\nTest 2: OK, got < (~American(?v16), American(?v2), {?v16 -> ?v2} >\nTest 3: OK, got < (Enemy(Nono, America), ~Enemy(?v18, America), {?v18 -> Nono} >\nTest 4: OK, got < False >\nTest 5: OK, got < False >\nTest 6: OK, got < False >\nTest 7: OK, got < False >\nTest 8: OK, got < (Q(5), ~Q(5), {} >\nTest 9: OK, got < False >\n>>>  10 / 10 tests successful.\n>>> Test batch [5]\nTest 0: OK, got < The void clause >\nTest 1: OK, got < Q(?y) >\nTest 2: OK, got < ~Q(5) >\nTest 3: OK\n>>>  4 / 4 tests successful.\nKB now:\n\t\t\t(| ~P(?v2) Q(?v2))\n\t\t\tP(A)\nresolvent: ~Q(A)/Q(?v2) {v2: ('const', 'A')}\n\t\t in ~Q(A)\n\t\t and (| ~P(?v2) Q(?v2))\nresolvent: ~P(A)/P(A) {}\n\t\t in ~P(A)\n\t\t and P(A)\nDone (effort left 48)\n==========================================\nKB now:\n\t\t\tUSGeneral(West)\n\t\t\tUSGeneral(General_Awesome)\n\t\t\tAwesome(General_Awesome)\n\t\t\tEnemy(Nono, America)\n\t\t\tMissile(M1)\n\t\t\tOwns(Nono, M1)\n\t\t\t(| ~USGeneral(?v2) American(?v2))\n\t\t\t(| ~Missile(?v4) Weapon(?v4))\n\t\t\t(| ~Owns(?v9, ?v8) ~Missile(?v8) Sells(West, ?v8, ?v9))\n\t\t\t(| ~Weapon(?v12) ~Sells(?v16, ?v12, ?v14) ~Hostile(?v14) ~American(?v16) Criminal(?v16))\n\t\t\t(| ~Enemy(?v18, America) Hostile(?v18))\n\t\t\t(| ~American(?v20) ~Awesome(?v20) Awesome(America))\nresolvent: ~Criminal(West)/Criminal(?v16) {v16: ('const', 'West')}\n\t\t in ~Criminal(West)\n\t\t and (| ~Weapon(?v12) ~Sells(?v16, ?v12, ?v14) ~Hostile(?v14) ~American(?v16) Criminal(?v16))\nresolvent: ~American(West)/American(?v2) {v2: ('const', 'West')}\n\t\t in (| ~Weapon(?v12) ~Sells(West, ?v12, ?v14) ~Hostile(?v14) ~American(West))\n\t\t and (| ~USGeneral(?v2) American(?v2))\nresolvent: ~USGeneral(West)/USGeneral(West) {}\n\t\t in (| ~Weapon(?v12) ~Sells(West, ?v12, ?v14) ~Hostile(?v14) ~USGeneral(West))\n\t\t and USGeneral(West)\nresolvent: ~Weapon(?v12)/Weapon(?v4) {v12: ('var', 'v4')}\n\t\t in (| ~Weapon(?v12) ~Sells(West, ?v12, ?v14) ~Hostile(?v14))\n\t\t and (| ~Missile(?v4) Weapon(?v4))\nresolvent: ~Missile(?v4)/Missile(M1) {v4: ('const', 'M1')}\n\t\t in (| ~Sells(West, ?v4, ?v14) ~Hostile(?v14) ~Missile(?v4))\n\t\t and Missile(M1)\nresolvent: ~Sells(West, M1, ?v14)/Sells(West, ?v8, ?v9) {v14: ('var', 'v9'), v8: ('const', 'M1')}\n\t\t in (| ~Sells(West, M1, ?v14) ~Hostile(?v14))\n\t\t and (| ~Owns(?v9, ?v8) ~Missile(?v8) Sells(West, ?v8, ?v9))\nresolvent: ~Missile(M1)/Missile(M1) {}\n\t\t in (| ~Hostile(?v9) ~Owns(?v9, M1) ~Missile(M1))\n\t\t and Missile(M1)\nresolvent: ~Owns(?v9, M1)/Owns(Nono, M1) {v9: ('const', 'Nono')}\n\t\t in (| ~Hostile(?v9) ~Owns(?v9, M1))\n\t\t and Owns(Nono, M1)\nresolvent: ~Hostile(Nono)/Hostile(?v18) {v18: ('const', 'Nono')}\n\t\t in ~Hostile(Nono)\n\t\t and (| ~Enemy(?v18, America) Hostile(?v18))\nresolvent: ~Enemy(Nono, America)/Enemy(Nono, America) {}\n\t\t in ~Enemy(Nono, America)\n\t\t and Enemy(Nono, America)\nDone (effort left 40)\n==========================================\nKB now:\n\t\t\t(| ~Horse(?v3) ~Dog(?v4) Faster(?v3, ?v4))\n\t\t\t(| ~Rabbit(?v6) Faster(<function the_greyhound at 0x7f410c179e50>[], ?v6))\n\t\t\tHorse(Harry)\n\t\t\tRabbit(Ralph)\n\t\t\tGreyhound(<function the_greyhound at 0x7f410c179e50>[])\n\t\t\t(| ~Greyhound(?v8) Dog(?v8))\n\t\t\t(| ~Faster(?v13, ?v11) ~Faster(?v11, ?v14) Faster(?v13, ?v14))\nresolvent: ~Faster(Harry, Ralph)/Faster(?v3, ?v4) {v4: ('const', 'Ralph'), v3: ('const', 'Harry')}\n\t\t in ~Faster(Harry, Ralph)\n\t\t and (| ~Horse(?v3) ~Dog(?v4) Faster(?v3, ?v4))\nresolvent: ~Horse(Harry)/Horse(Harry) {}\n\t\t in (| ~Horse(Harry) ~Dog(Ralph))\n\t\t and Horse(Harry)\nresolvent: ~Dog(Ralph)/Dog(?v8) {v8: ('const', 'Ralph')}\n\t\t in ~Dog(Ralph)\n\t\t and (| ~Greyhound(?v8) Dog(?v8))\nresolvent: ~Dog(Ralph)/Dog(?v8) {v8: ('const', 'Ralph')}\n\t\t in (| ~Horse(Harry) ~Dog(Ralph))\n\t\t and (| ~Greyhound(?v8) Dog(?v8))\nresolvent: ~Horse(Harry)/Horse(Harry) {}\n\t\t in (| ~Horse(Harry) ~Greyhound(Ralph))\n\t\t and Horse(Harry)\nresolvent: ~Faster(Harry, Ralph)/Faster(?v13, ?v14) {v14: ('const', 'Ralph'), v13: ('const', 'Harry')}\n\t\t in ~Faster(Harry, Ralph)\n\t\t and (| ~Faster(?v13, ?v11) ~Faster(?v11, ?v14) Faster(?v13, ?v14))\nresolvent: ~Faster(Harry, ?v11)/Faster(?v3, ?v4) {v11: ('var', 'v4'), v3: ('const', 'Harry')}\n\t\t in (| ~Faster(Harry, ?v11) ~Faster(?v11, Ralph))\n\t\t and (| ~Horse(?v3) ~Dog(?v4) Faster(?v3, ?v4))\nresolvent: ~Faster(?v4, Ralph)/Faster(?v3, ?v4) {v4: ('const', 'Ralph'), v3: ('const', 'Ralph')}\n\t\t in (| ~Faster(?v4, Ralph) ~Horse(Harry) ~Dog(?v4))\n\t\t and (| ~Horse(?v3) ~Dog(?v4) Faster(?v3, ?v4))\nresolvent: ~Horse(Harry)/Horse(Harry) {}\n\t\t in (| ~Horse(Harry) ~Dog(Ralph) ~Horse(Ralph))\n\t\t and Horse(Harry)\nresolvent: ~Dog(Ralph)/Dog(?v8) {v8: ('const', 'Ralph')}\n\t\t in (| ~Dog(Ralph) ~Horse(Ralph))\n\t\t and (| ~Greyhound(?v8) Dog(?v8))\nresolvent: ~Dog(Ralph)/Dog(?v8) {v8: ('const', 'Ralph')}\n\t\t in (| ~Horse(Harry) ~Dog(Ralph) ~Horse(Ralph))\n\t\t and (| ~Greyhound(?v8) Dog(?v8))\nresolvent: ~Horse(Harry)/Horse(Harry) {}\n\t\t in (| ~Horse(Harry) ~Horse(Ralph) ~Greyhound(Ralph))\n\t\t and Horse(Harry)\nresolvent: ~Faster(?v4, Ralph)/Faster(<function the_greyhound at 0x7f410c179e50>[], ?v6) {v6: ('const', 'Ralph'), v4: ('call', (<function the_greyhound at 0x7f410c179e50>, []))}\n\t\t in (| ~Faster(?v4, Ralph) ~Horse(Harry) ~Dog(?v4))\n\t\t and (| ~Rabbit(?v6) Faster(<function the_greyhound at 0x7f410c179e50>[], ?v6))\nresolvent: ~Horse(Harry)/Horse(Harry) {}\n\t\t in (| ~Horse(Harry) ~Dog(<function the_greyhound at 0x7f410c179e50>[]) ~Rabbit(Ralph))\n\t\t and Horse(Harry)\nresolvent: ~Rabbit(Ralph)/Rabbit(Ralph) {}\n\t\t in (| ~Dog(<function the_greyhound at 0x7f410c179e50>[]) ~Rabbit(Ralph))\n\t\t and Rabbit(Ralph)\nresolvent: ~Dog(<function the_greyhound at 0x7f410c179e50>[])/Dog(?v8) {v8: ('call', (<function the_greyhound at 0x7f410c179e50>, []))}\n\t\t in ~Dog(<function the_greyhound at 0x7f410c179e50>[])\n\t\t and (| ~Greyhound(?v8) Dog(?v8))\nresolvent: ~Greyhound(<function the_greyhound at 0x7f410c179e50>[])/Greyhound(<function the_greyhound at 0x7f410c179e50>[]) {}\n\t\t in ~Greyhound(<function the_greyhound at 0x7f410c179e50>[])\n\t\t and Greyhound(<function the_greyhound at 0x7f410c179e50>[])\nDone (effort left 33)\n==========================================\n"
     ]
    }
   ],
   "source": [
    "from Lab05 import make_var, make_const, make_atom, make_or, make_neg, \\\n",
    "                is_variable, is_constant, is_atom, is_function_call, \\\n",
    "                print_formula, get_args, get_head, get_name, get_value ,\\\n",
    "                unify, substitute\n",
    "from Lab06Skel import add_statement, is_positive_literal, is_negative_literal, \\\n",
    "                make_unique_var_names, print_KB\n",
    "from Lab05tester import *"
   ]
  },
  {
   "cell_type": "markdown",
   "metadata": {},
   "source": [
    "## 3. Baza de cunoștințe\n",
    "\n",
    "Să se completeze reprezentarea bazei de cunoștințe de mai jos știind că ea corespunde următoarelor afirmații:\n",
    "\n",
    "[TODO 2.1:] *Dacă a plouat două zile la rând, a treia zi va fi frumos.* [TODO 2.2:] *Dacă a fost frumos trei zile la rând, în cea de-a patra zi va ploua.* [TODO 2.3:] *Un student merge întotdeauna la munte dacă este frumos într-o zi de weekend. Cine merge la munte și practică un sport de iarnă va avea activități legate de acel sport de iarnă.*\n",
    "\n",
    "*Arsenie și Nectarie sunt studenți. Arsenie practică volei și schi, iar Nectarie practică schi și sanie. Voleiul este un sport de vară, în timp ce schiul și sania sunt sporturi de iarnă. Vineri plouă; luni, marți și miercuri este frumos*\n",
    "\n",
    "### Cerința 2:\n",
    "\n",
    "Completați mai jos clauzele definite pentru primele 3 propoziții."
   ]
  },
  {
   "cell_type": "code",
   "execution_count": 2,
   "metadata": {},
   "outputs": [
    {
     "output_type": "stream",
     "name": "stdout",
     "text": [
      "Baza de cunoștințe se prezintă astfel:\nOK: Added statement Consecutive(Luni, Marti)\nOK: Added statement Consecutive(Marti, Miercuri)\nOK: Added statement Consecutive(Miercuri, Joi)\nOK: Added statement Consecutive(Joi, Vineri)\nOK: Added statement Consecutive(Vineri, Sambata)\nOK: Added statement Consecutive(Sambata, Duminica)\nOK: Added statement Weekend(Sambata)\nOK: Added statement Weekend(Duminica)\nOK: Added statement Ploua(Vineri)\nOK: Added statement (| ~Ploua(?z1) ~Ploua(?z2) ~Consecutive(?z1, ?z2) ~Consecutive(?z2, ?z3) Frumos(?z3))\nOK: Added statement Frumos(Luni)\nOK: Added statement Frumos(Marti)\nOK: Added statement Frumos(Miercuri)\nOK: Added statement (| ~Frumos(?z1) ~Frumos(?z2) ~Frumos(?z3) ~Consecutive(?z1, ?z2) ~Consecutive(?z2, ?z3) ~Consecutive(?z3, ?z4) Ploua(?z4))\nOK: Added statement Student(Nectarie)\nOK: Added statement Student(Arsenie)\nOK: Added statement (| ~Frumos(?zi) ~Weekend(?zi) ~Student(?stud) MergeLaMunte(?stud, ?zi))\nOK: Added statement SportDeVara(Volei)\nOK: Added statement SportDeIarna(Schi)\nOK: Added statement SportDeIarna(Sanie)\nOK: Added statement PracticaSport(Nectarie, Schi)\nOK: Added statement PracticaSport(Nectarie, Sanie)\nOK: Added statement PracticaSport(Arsenie, Schi)\nOK: Added statement PracticaSport(Arsenie, Volei)\nOK: Added statement (| ~MergeLaMunte(?who, ?when) ~PracticaSport(?who, ?what) Activitate(?who, ?what, ?when))\nKB now:\n\t\t\tConsecutive(Luni, Marti)\n\t\t\tConsecutive(Marti, Miercuri)\n\t\t\tConsecutive(Miercuri, Joi)\n\t\t\tConsecutive(Joi, Vineri)\n\t\t\tConsecutive(Vineri, Sambata)\n\t\t\tConsecutive(Sambata, Duminica)\n\t\t\tWeekend(Sambata)\n\t\t\tWeekend(Duminica)\n\t\t\tPloua(Vineri)\n\t\t\t(| ~Ploua(?z1) ~Ploua(?z2) ~Consecutive(?z1, ?z2) ~Consecutive(?z2, ?z3) Frumos(?z3))\n\t\t\tFrumos(Luni)\n\t\t\tFrumos(Marti)\n\t\t\tFrumos(Miercuri)\n\t\t\t(| ~Frumos(?z1) ~Frumos(?z2) ~Frumos(?z3) ~Consecutive(?z1, ?z2) ~Consecutive(?z2, ?z3) ~Consecutive(?z3, ?z4) Ploua(?z4))\n\t\t\tStudent(Nectarie)\n\t\t\tStudent(Arsenie)\n\t\t\t(| ~Frumos(?zi) ~Weekend(?zi) ~Student(?stud) MergeLaMunte(?stud, ?zi))\n\t\t\tSportDeVara(Volei)\n\t\t\tSportDeIarna(Schi)\n\t\t\tSportDeIarna(Sanie)\n\t\t\tPracticaSport(Nectarie, Schi)\n\t\t\tPracticaSport(Nectarie, Sanie)\n\t\t\tPracticaSport(Arsenie, Schi)\n\t\t\tPracticaSport(Arsenie, Volei)\n\t\t\t(| ~MergeLaMunte(?who, ?when) ~PracticaSport(?who, ?what) Activitate(?who, ?what, ?when))\n==================== \n Baza de cunoștințe arată intern astfel:\n('atom', ('Consecutive', [('const', 'Luni'), ('const', 'Marti')]))\n('atom', ('Consecutive', [('const', 'Marti'), ('const', 'Miercuri')]))\n('atom', ('Consecutive', [('const', 'Miercuri'), ('const', 'Joi')]))\n('atom', ('Consecutive', [('const', 'Joi'), ('const', 'Vineri')]))\n('atom', ('Consecutive', [('const', 'Vineri'), ('const', 'Sambata')]))\n('atom', ('Consecutive', [('const', 'Sambata'), ('const', 'Duminica')]))\n('atom', ('Weekend', [('const', 'Sambata')]))\n('atom', ('Weekend', [('const', 'Duminica')]))\n('atom', ('Ploua', [('const', 'Vineri')]))\n('|', [('~', [('atom', ('Ploua', [('var', 'z1')]))]), ('~', [('atom', ('Ploua', [('var', 'z2')]))]), ('~', [('atom', ('Consecutive', [('var', 'z1'), ('var', 'z2')]))]), ('~', [('atom', ('Consecutive', [('var', 'z2'), ('var', 'z3')]))]), ('atom', ('Frumos', [('var', 'z3')]))])\n('atom', ('Frumos', [('const', 'Luni')]))\n('atom', ('Frumos', [('const', 'Marti')]))\n('atom', ('Frumos', [('const', 'Miercuri')]))\n('|', [('~', [('atom', ('Frumos', [('var', 'z1')]))]), ('~', [('atom', ('Frumos', [('var', 'z2')]))]), ('~', [('atom', ('Frumos', [('var', 'z3')]))]), ('~', [('atom', ('Consecutive', [('var', 'z1'), ('var', 'z2')]))]), ('~', [('atom', ('Consecutive', [('var', 'z2'), ('var', 'z3')]))]), ('~', [('atom', ('Consecutive', [('var', 'z3'), ('var', 'z4')]))]), ('atom', ('Ploua', [('var', 'z4')]))])\n('atom', ('Student', [('const', 'Nectarie')]))\n('atom', ('Student', [('const', 'Arsenie')]))\n('|', [('~', [('atom', ('Frumos', [('var', 'zi')]))]), ('~', [('atom', ('Weekend', [('var', 'zi')]))]), ('~', [('atom', ('Student', [('var', 'stud')]))]), ('atom', ('MergeLaMunte', [('var', 'stud'), ('var', 'zi')]))])\n('atom', ('SportDeVara', [('const', 'Volei')]))\n('atom', ('SportDeIarna', [('const', 'Schi')]))\n('atom', ('SportDeIarna', [('const', 'Sanie')]))\n('atom', ('PracticaSport', [('const', 'Nectarie'), ('const', 'Schi')]))\n('atom', ('PracticaSport', [('const', 'Nectarie'), ('const', 'Sanie')]))\n('atom', ('PracticaSport', [('const', 'Arsenie'), ('const', 'Schi')]))\n('atom', ('PracticaSport', [('const', 'Arsenie'), ('const', 'Volei')]))\n('|', [('~', [('atom', ('MergeLaMunte', [('var', 'who'), ('var', 'when')]))]), ('~', [('atom', ('PracticaSport', [('var', 'who'), ('var', 'what')]))]), ('atom', ('Activitate', [('var', 'who'), ('var', 'what'), ('var', 'when')]))])\n\n"
     ]
    }
   ],
   "source": [
    "def get_sports_kb():\n",
    "    sports_kb = []\n",
    "    # Predicatul 'Consecutive'\n",
    "    add_statement(sports_kb, make_atom('Consecutive', make_const('Luni'), make_const('Marti')))\n",
    "    add_statement(sports_kb, make_atom('Consecutive', make_const('Marti'), make_const('Miercuri')))\n",
    "    add_statement(sports_kb, make_atom('Consecutive', make_const('Miercuri'), make_const('Joi')))\n",
    "    add_statement(sports_kb, make_atom('Consecutive', make_const('Joi'), make_const('Vineri')))\n",
    "    add_statement(sports_kb, make_atom('Consecutive', make_const('Vineri'), make_const('Sambata')))\n",
    "    add_statement(sports_kb, make_atom('Consecutive', make_const('Sambata'), make_const('Duminica')))\n",
    "    # Predicatul 'Weekend'\n",
    "    add_statement(sports_kb, make_atom('Weekend', make_const('Sambata')))\n",
    "    add_statement(sports_kb, make_atom('Weekend', make_const('Duminica')))\n",
    "    # Predicatul 'Ploua'\n",
    "    add_statement(sports_kb, make_atom('Ploua', make_const('Vineri')))\n",
    "    # Dacă a plouat două zile la rând, a treia zi va fi frumos.\n",
    "    add_statement(sports_kb,\n",
    "        make_atom(\"Frumos\", make_var(\"z3\")),\n",
    "        make_atom(\"Ploua\", make_var(\"z1\")),\n",
    "        make_atom(\"Ploua\", make_var(\"z2\")),\n",
    "        make_atom(\"Consecutive\", make_var(\"z1\"), make_var(\"z2\")),\n",
    "        make_atom(\"Consecutive\", make_var(\"z2\"), make_var(\"z3\"))\n",
    "    )\n",
    "    # Predicatul 'Frumos'\n",
    "    add_statement(sports_kb, make_atom('Frumos', make_const('Luni')))\n",
    "    add_statement(sports_kb, make_atom('Frumos', make_const('Marti')))\n",
    "    add_statement(sports_kb, make_atom('Frumos', make_const('Miercuri')))\n",
    "    # Dacă a fost frumos trei zile la rând, în cea de-a patra zi va ploua.\n",
    "    add_statement(sports_kb,\n",
    "        make_atom(\"Ploua\", make_var(\"z4\")),\n",
    "        make_atom(\"Frumos\", make_var(\"z1\")),\n",
    "        make_atom(\"Frumos\", make_var(\"z2\")),\n",
    "        make_atom(\"Frumos\", make_var(\"z3\")),\n",
    "        make_atom(\"Consecutive\", make_var(\"z1\"), make_var(\"z2\")),\n",
    "        make_atom(\"Consecutive\", make_var(\"z2\"), make_var(\"z3\")),\n",
    "        make_atom(\"Consecutive\", make_var(\"z3\"), make_var(\"z4\"))\n",
    "    )\n",
    "    # Predicatul 'Student'\n",
    "    add_statement(sports_kb, make_atom('Student', make_const('Nectarie')))\n",
    "    add_statement(sports_kb, make_atom('Student', make_const('Arsenie')))\n",
    "    # MergeLaMunte (cine, cand)\n",
    "    # Un student merge întotdeauna la munte dacă este frumos într-o zi de weekend.\n",
    "    add_statement(sports_kb,\n",
    "        make_atom(\"MergeLaMunte\", make_var(\"stud\"), make_var(\"zi\")),\n",
    "        make_atom(\"Frumos\", make_var(\"zi\")),\n",
    "        make_atom(\"Weekend\", make_var(\"zi\")),\n",
    "        make_atom(\"Student\", make_var(\"stud\"))\n",
    "    )\n",
    "    # Predicatul 'SportDeVara'\n",
    "    add_statement(sports_kb, make_atom('SportDeVara', make_const('Volei')))\n",
    "    # Predicatul 'SportDeIarna'\n",
    "    add_statement(sports_kb, make_atom('SportDeIarna', make_const('Schi')))\n",
    "    add_statement(sports_kb, make_atom('SportDeIarna', make_const('Sanie')))\n",
    "    # Predicatul 'PracticaSport'\n",
    "    add_statement(sports_kb, make_atom('PracticaSport', make_const('Nectarie'), make_const('Schi')))\n",
    "    add_statement(sports_kb, make_atom('PracticaSport', make_const('Nectarie'), make_const('Sanie')))\n",
    "    add_statement(sports_kb, make_atom('PracticaSport', make_const('Arsenie'), make_const('Schi')))\n",
    "    add_statement(sports_kb, make_atom('PracticaSport', make_const('Arsenie'), make_const('Volei')))\n",
    "    # Predicatul 'Activitate'\n",
    "    add_statement(sports_kb, make_atom('Activitate', make_var('who'), make_var('what'), make_var('when')),\n",
    "                  make_atom('MergeLaMunte', make_var('who'), make_var('when')),\n",
    "                  make_atom('PracticaSport', make_var('who'), make_var('what'))\n",
    "                 )\n",
    "    make_unique_var_names(sports_kb)\n",
    "    return sports_kb\n",
    "\n",
    "\n",
    "print(\"Baza de cunoștințe se prezintă astfel:\")\n",
    "skb = get_sports_kb()\n",
    "print_KB(skb)\n",
    "print(\"==================== \\n Baza de cunoștințe arată intern astfel:\")\n",
    "print(\"\" + \"\".join([(str(s) + \"\\n\") for s in skb]))"
   ]
  },
  {
   "cell_type": "markdown",
   "metadata": {},
   "source": [
    "## 4. Funcții auxiliare\n",
    "\n",
    "**Cerința 3:** Implementați funcțiile `get_premises`, `get_conclusion`, `is_fact` și `is_rule`. Toate acestea primesc o clauză definită (în baza de cunoștințe dată, poate fi un atom singur sau o disjuncție de literali) și întorc ceea ce specifică numele lor."
   ]
  },
  {
   "cell_type": "code",
   "execution_count": 3,
   "metadata": {},
   "outputs": [
    {
     "output_type": "stream",
     "name": "stdout",
     "text": [
      "~P(?x) ; ~Q(?x)\nR(?x)\nTrue\nTrue\n"
     ]
    }
   ],
   "source": [
    "from first import first\n",
    "\n",
    "def get_premises(formula):\n",
    "    return [atom for atom in get_args(formula) if is_negative_literal(atom)]\n",
    "\n",
    "def get_conclusion(formula):\n",
    "    return first(get_args(formula), key=is_positive_literal)\n",
    "\n",
    "def is_fact(formula):\n",
    "    return is_positive_literal(formula)\n",
    "\n",
    "def is_rule(formula):\n",
    "    return any(filter(is_negative_literal, get_args(formula)))\n",
    "\n",
    "# Test!\n",
    "# formula: P(x) ^ Q(x) -> R(x)\n",
    "f = make_or(make_neg(make_atom(\"P\", make_var(\"x\"))), make_neg(make_atom(\"Q\", make_var(\"x\"))), make_atom(\"R\", make_var(\"x\")))\n",
    "print(\"\".join([(print_formula(p, True) + \" ; \") for p in get_premises(f)])[:-3]) # Should be P(?x) ; Q(?x)\n",
    "print_formula(get_conclusion(f)) # Should be R(?x)\n",
    "print(is_rule(f)) # must be True\n",
    "print(is_fact(get_conclusion(f))) # must be True"
   ]
  },
  {
   "cell_type": "code",
   "execution_count": 4,
   "metadata": {
    "collapsed": true
   },
   "outputs": [],
   "source": [
    "def equal_terms(t1, t2):\n",
    "    if is_constant(t1) and is_constant(t2):\n",
    "        return get_value(t1) == get_value(t2)\n",
    "    if is_variable(t1) and is_variable(t2):\n",
    "            return get_name(t1) == get_name(t2)\n",
    "    if is_function_call(t1) and is_function(t2):\n",
    "        if get_head(t1) != get_head(t2):\n",
    "            return all([equal_terms(get_args(t1)[i], get_args(t2)[i]) for i in range(len(get_args(t1)))])\n",
    "    return False\n",
    "\n",
    "def is_equal_to(a1, a2):\n",
    "    # verificăm atomi cu același nume de predicat și același număr de argumente\n",
    "    if not (is_atom(a1) and is_atom(a2) and get_head(a1) == get_head(a2) and len(get_args(a1)) == len(get_args(a2))):\n",
    "        return False\n",
    "    return all([equal_terms(get_args(a1)[i], get_args(a2)[i]) for i in range(len(get_args(a1)))])"
   ]
  },
  {
   "cell_type": "markdown",
   "metadata": {},
   "source": [
    "## 5. Demonstrarea teoremelor prin înlănțuire înainte\n",
    "\n",
    "**Cerința 4:**\n",
    "\n",
    "Implementați funcția `apply_rule(rule, facts)` care primește o regulă și un set de fapte și întoarce toate faptele care pot fi determinate prin aplicarea regulii pe faptele date.\n",
    "\n",
    "Folosiți-vă de `unify`, `substitute`, dar și de `get_premises` și `get_conclusion` implementate mai devreme."
   ]
  },
  {
   "cell_type": "code",
   "execution_count": 5,
   "metadata": {},
   "outputs": [
    {
     "output_type": "stream",
     "name": "stdout",
     "text": [
      "Q(1)\n=====\nR(1)\nR(2)\nR(3)\n=====\nT(1, 3)\nT(2, 3)\nT(3, 3)\nT(?x, 3)\nT(3, 2)\n"
     ]
    }
   ],
   "source": [
    "from copy import deepcopy\n",
    "# from __future__ import print_function\n",
    "\n",
    "def apply_rule(rule, facts):\n",
    "    substs = []\n",
    "\n",
    "    for prem in map(lambda p: get_args(p)[0], get_premises(rule)):\n",
    "        for fact in facts:\n",
    "            new_s = unify(prem, fact)\n",
    "            if new_s:\n",
    "                substs.append(new_s)\n",
    "\n",
    "            substs.extend(filter(lambda s: s, [unify(prem, fact, s) for s in substs]))\n",
    "\n",
    "    new_facts = []\n",
    "    for s in substs:\n",
    "        fact = substitute(get_conclusion(rule), s)\n",
    "        if fact and fact not in new_facts:\n",
    "            new_facts.append(fact)\n",
    "\n",
    "    return new_facts\n",
    "\n",
    "\n",
    "# Test!\n",
    "# Rule: P(x) => Q(x)\n",
    "# Facts: P(1)\n",
    "for f in apply_rule( \n",
    "        make_or(make_neg(make_atom(\"P\", make_var(\"x\"))), make_atom(\"Q\", make_var(\"x\"))), \\\n",
    "        [make_atom(\"P\", make_const(1))]):\n",
    "    print_formula(f) # should be Q(1)\n",
    "print(\"=====\")\n",
    "# Rule: P(x) ^ Q(x) => R(x)\n",
    "# Facts: P(1), P(2), P(3), Q(3), Q(2)\n",
    "for f in apply_rule( \n",
    "        make_or(\n",
    "            make_neg(make_atom(\"P\", make_var(\"x\"))),\n",
    "            make_neg(make_atom(\"Q\", make_var(\"x\"))),\n",
    "            make_atom(\"R\", make_var(\"x\"))),\n",
    "        [make_atom(\"P\", make_const(x)) for x in [1, 2, 3]] + \\\n",
    "        [make_atom(\"Q\", make_const(x)) for x in [3, 2]]):\n",
    "    print_formula(f) # should be R(2) and R(3)\n",
    "print(\"=====\")\n",
    "# Rule: P(x) ^ Q(y) ^ R(x, y) => T(x, y)\n",
    "# Facts: P(1), P(2), P(3), Q(3), Q(2), R(3, 2)\n",
    "for f in apply_rule( \n",
    "        make_or(\n",
    "            make_neg(make_atom(\"P\", make_var(\"x\"))),\n",
    "            make_neg(make_atom(\"Q\", make_var(\"y\"))),\n",
    "            make_neg(make_atom(\"R\", make_var(\"x\"), make_var(\"y\"))),\n",
    "            make_atom(\"T\", make_var(\"x\"), make_var(\"y\"))),\n",
    "        [make_atom(\"P\", make_const(x)) for x in [1, 2, 3]] + \\\n",
    "        [make_atom(\"Q\", make_const(x)) for x in [3, 2]] + \\\n",
    "        [make_atom(\"R\", make_const(3), make_const(2))]):\n",
    "    print_formula(f) # should be T(3, 2)"
   ]
  },
  {
   "cell_type": "code",
   "execution_count": 6,
   "metadata": {},
   "outputs": [],
   "source": [
    "def forward_chaining(kb, theorem, verbose = True):\n",
    "    # Salvăm baza de date originală, lucrăm cu o copie\n",
    "    local_kb = deepcopy(kb)\n",
    "    # Două variabile care descriu starea căutării\n",
    "    got_new_facts = True   # s-au găsit fapte noi la ultima căutare\n",
    "    is_proved = False      # a fost demostrată teorema\n",
    "    # Verificăm dacă teorema este deja demonstrată\n",
    "    for fact in filter(is_fact, local_kb):\n",
    "        if unify(fact, theorem):\n",
    "            if verbose: print(\"This already in KB: \" + print_formula(fact, True))\n",
    "            is_proved = True\n",
    "            break\n",
    "    while (not is_proved) and got_new_facts:\n",
    "        got_new_facts = False\n",
    "        for rule in filter(is_rule, local_kb):\n",
    "            # Pentru fiecare regulă\n",
    "            new_facts = apply_rule(rule, list(filter(is_fact, local_kb)))\n",
    "            new_facts = list(filter(lambda fact: not any(list(filter(lambda orig: is_equal_to(fact, orig), local_kb))), new_facts))\n",
    "            if new_facts:\n",
    "                if verbose: print(\"Applied rule: \" + print_formula(rule, True))\n",
    "                got_new_facts = True\n",
    "                for fact in new_facts:\n",
    "                    #if verbose: print(\"New fact: \" + print_formula(fact, True))\n",
    "                    if unify(fact, theorem) != False:\n",
    "                        is_proved = True\n",
    "                        add_statement(local_kb, fact)\n",
    "                        if verbose: print(\"Now in KB: \" + print_formula(fact, True))\n",
    "                        break\n",
    "                    add_statement(local_kb, fact)\n",
    "            if is_proved:\n",
    "                break\n",
    "    if verbose:\n",
    "        if is_proved:\n",
    "            print(\"The theorem is TRUE!\")\n",
    "        else:\n",
    "            print(\"The theorem is FALSE!\")\n",
    "    return is_proved"
   ]
  },
  {
   "cell_type": "code",
   "execution_count": 7,
   "metadata": {
    "tags": []
   },
   "outputs": [
    {
     "output_type": "stream",
     "name": "stdout",
     "text": [
      "================== 0\nThis already in KB: Frumos(Luni)\nThe theorem is TRUE!\nTest OK!\n================== 1\nThis already in KB: Ploua(Vineri)\nThe theorem is TRUE!\nTest OK!\n================== 2\nApplied rule: (| ~Ploua(?z1) ~Ploua(?z2) ~Consecutive(?z1, ?z2) ~Consecutive(?z2, ?z3) Frumos(?z3))\nOK: Added statement Frumos(Joi)\nOK: Added statement Frumos(Vineri)\nOK: Added statement Frumos(Sambata)\nOK: Added statement Frumos(Duminica)\nApplied rule: (| ~Frumos(?z1) ~Frumos(?z2) ~Frumos(?z3) ~Consecutive(?z1, ?z2) ~Consecutive(?z2, ?z3) ~Consecutive(?z3, ?z4) Ploua(?z4))\nOK: Added statement Ploua(Marti)\nOK: Added statement Ploua(Miercuri)\nOK: Added statement Ploua(Joi)\nNow in KB: Ploua(Joi)\nThe theorem is TRUE!\nTest OK!\n================== 3\nApplied rule: (| ~Ploua(?z1) ~Ploua(?z2) ~Consecutive(?z1, ?z2) ~Consecutive(?z2, ?z3) Frumos(?z3))\nOK: Added statement Frumos(Joi)\nOK: Added statement Frumos(Vineri)\nOK: Added statement Frumos(Sambata)\nNow in KB: Frumos(Sambata)\nThe theorem is TRUE!\nTest OK!\n================== 4\nApplied rule: (| ~Ploua(?z1) ~Ploua(?z2) ~Consecutive(?z1, ?z2) ~Consecutive(?z2, ?z3) Frumos(?z3))\nOK: Added statement Frumos(Joi)\nOK: Added statement Frumos(Vineri)\nOK: Added statement Frumos(Sambata)\nOK: Added statement Frumos(Duminica)\nApplied rule: (| ~Frumos(?z1) ~Frumos(?z2) ~Frumos(?z3) ~Consecutive(?z1, ?z2) ~Consecutive(?z2, ?z3) ~Consecutive(?z3, ?z4) Ploua(?z4))\nOK: Added statement Ploua(Marti)\nOK: Added statement Ploua(Miercuri)\nOK: Added statement Ploua(Joi)\nOK: Added statement Ploua(Sambata)\nOK: Added statement Ploua(Duminica)\nApplied rule: (| ~Frumos(?zi) ~Weekend(?zi) ~Student(?stud) MergeLaMunte(?stud, ?zi))\nOK: Added statement MergeLaMunte(Nectarie, Luni)\nOK: Added statement MergeLaMunte(Nectarie, Marti)\nOK: Added statement MergeLaMunte(Nectarie, Miercuri)\nOK: Added statement MergeLaMunte(Nectarie, Joi)\nOK: Added statement MergeLaMunte(Nectarie, Vineri)\nOK: Added statement MergeLaMunte(Nectarie, Sambata)\nOK: Added statement MergeLaMunte(Nectarie, Duminica)\nOK: Added statement MergeLaMunte(Nectarie, ?zi)\nOK: Added statement MergeLaMunte(Arsenie, ?zi)\nApplied rule: (| ~MergeLaMunte(?who, ?when) ~PracticaSport(?who, ?what) Activitate(?who, ?what, ?when))\nOK: Added statement Activitate(Nectarie, Schi, Luni)\nOK: Added statement Activitate(Nectarie, Schi, Marti)\nOK: Added statement Activitate(Nectarie, Schi, Miercuri)\nOK: Added statement Activitate(Nectarie, Schi, Joi)\nOK: Added statement Activitate(Nectarie, Schi, Vineri)\nOK: Added statement Activitate(Nectarie, Schi, Sambata)\nNow in KB: Activitate(Nectarie, Schi, Sambata)\nThe theorem is TRUE!\nTest OK!\n"
     ]
    }
   ],
   "source": [
    "def test_result(result, truth):\n",
    "    print(\"Test OK!\" if result == truth else \"Test FAILED!\")\n",
    "\n",
    "test_kb = skb\n",
    "print(\"================== 0\")\n",
    "test_result(forward_chaining(deepcopy(test_kb), make_atom(\"Frumos\", make_var(\"x\")), True), True)\n",
    "print(\"================== 1\")\n",
    "test_result(forward_chaining(deepcopy(test_kb), make_atom(\"Ploua\", make_var(\"x\")), True), True)\n",
    "print(\"================== 2\")\n",
    "test_result(forward_chaining(deepcopy(test_kb), make_atom(\"Ploua\", make_const(\"Joi\")), True), True)\n",
    "print(\"================== 3\")\n",
    "test_result(forward_chaining(deepcopy(test_kb), make_atom(\"Frumos\", make_const(\"Sambata\")), True), True)\n",
    "print(\"================== 4\")\n",
    "test_result(forward_chaining(deepcopy(test_kb),\n",
    "                             make_atom(\"Activitate\",\n",
    "                                       make_const(\"Nectarie\"), make_var(\"sport\"), make_const(\"Sambata\")), True), True)"
   ]
  }
 ],
 "metadata": {
  "kernelspec": {
   "name": "python3",
   "display_name": "Python 3.8.5 64-bit",
   "metadata": {
    "interpreter": {
     "hash": "31f2aee4e71d21fbe5cf8b01ff0e069b9275f58929596ceb00d14d90e3e16cd6"
    }
   }
  },
  "language_info": {
   "codemirror_mode": {
    "name": "ipython",
    "version": 3
   },
   "file_extension": ".py",
   "mimetype": "text/x-python",
   "name": "python",
   "nbconvert_exporter": "python",
   "pygments_lexer": "ipython3",
   "version": "3.8.5-final"
  }
 },
 "nbformat": 4,
 "nbformat_minor": 1
}